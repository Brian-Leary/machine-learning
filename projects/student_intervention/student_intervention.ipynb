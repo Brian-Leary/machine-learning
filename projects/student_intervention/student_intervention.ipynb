{
 "cells": [
  {
   "cell_type": "markdown",
   "metadata": {},
   "source": [
    "# Machine Learning Engineer Nanodegree\n",
    "## Supervised Learning\n",
    "## Project: Building a Student Intervention System"
   ]
  },
  {
   "cell_type": "markdown",
   "metadata": {},
   "source": [
    "Welcome to the second project of the Machine Learning Engineer Nanodegree! In this notebook, some template code has already been provided for you, and it will be your job to implement the additional functionality necessary to successfully complete this project. Sections that begin with **'Implementation'** in the header indicate that the following block of code will require additional functionality which you must provide. Instructions will be provided for each section and the specifics of the implementation are marked in the code block with a `'TODO'` statement. Please be sure to read the instructions carefully!\n",
    "\n",
    "In addition to implementing code, there will be questions that you must answer which relate to the project and your implementation. Each section where you will answer a question is preceded by a **'Question X'** header. Carefully read each question and provide thorough answers in the following text boxes that begin with **'Answer:'**. Your project submission will be evaluated based on your answers to each of the questions and the implementation you provide.  \n",
    "\n",
    ">**Note:** Code and Markdown cells can be executed using the **Shift + Enter** keyboard shortcut. In addition, Markdown cells can be edited by typically double-clicking the cell to enter edit mode."
   ]
  },
  {
   "cell_type": "markdown",
   "metadata": {},
   "source": [
    "### Question 1 - Classification vs. Regression\n",
    "*Your goal for this project is to identify students who might need early intervention before they fail to graduate. Which type of supervised learning problem is this, classification or regression? Why?*"
   ]
  },
  {
   "cell_type": "markdown",
   "metadata": {},
   "source": [
    "**Answer: **\n",
    "\n",
    "Identifying students who might need early intervention before they fail to graduate would be an example of classification because we're looking for a discrete outcome of only two possibilities: passed, failed."
   ]
  },
  {
   "cell_type": "markdown",
   "metadata": {},
   "source": [
    "## Exploring the Data\n",
    "Run the code cell below to load necessary Python libraries and load the student data. Note that the last column from this dataset, `'passed'`, will be our target label (whether the student graduated or didn't graduate). All other columns are features about each student."
   ]
  },
  {
   "cell_type": "code",
   "execution_count": 28,
   "metadata": {
    "collapsed": false
   },
   "outputs": [
    {
     "name": "stdout",
     "output_type": "stream",
     "text": [
      "Student data read successfully!\n"
     ]
    }
   ],
   "source": [
    "# Import libraries\n",
    "import numpy as np\n",
    "import pandas as pd\n",
    "import matplotlib.pyplot as plt\n",
    "%matplotlib inline\n",
    "from time import time\n",
    "from sklearn.metrics import f1_score\n",
    "from sklearn.cross_validation import train_test_split\n",
    "from sklearn.cross_validation import StratifiedShuffleSplit\n",
    "# For slkearn >= 0.18 use the following instead:\n",
    "#from sklearn.model_selection import ShuffleSplit\n",
    "\n",
    "# Read student data\n",
    "student_data = pd.read_csv(\"student-data.csv\")\n",
    "\n",
    "# Student outcomes\n",
    "y = student_data['passed']\n",
    "\n",
    "print \"Student data read successfully!\""
   ]
  },
  {
   "cell_type": "markdown",
   "metadata": {},
   "source": [
    "### Implementation: Data Exploration\n",
    "Let's begin by investigating the dataset to determine how many students we have information on, and learn about the graduation rate among these students. In the code cell below, you will need to compute the following:\n",
    "- The total number of students, `n_students`.\n",
    "- The total number of features for each student, `n_features`.\n",
    "- The number of those students who passed, `n_passed`.\n",
    "- The number of those students who failed, `n_failed`.\n",
    "- The graduation rate of the class, `grad_rate`, in percent (%).\n"
   ]
  },
  {
   "cell_type": "code",
   "execution_count": 29,
   "metadata": {
    "collapsed": false
   },
   "outputs": [
    {
     "name": "stdout",
     "output_type": "stream",
     "text": [
      "Total number of students: 395\n",
      "Number of features: 30\n",
      "Number of students who passed: 265\n",
      "Number of students who failed: 130\n",
      "Graduation rate of the class: 67.09%\n"
     ]
    }
   ],
   "source": [
    "# TODO: Calculate number of students\n",
    "n_students = student_data.shape[0]\n",
    "\n",
    "# TODO: Calculate number of features\n",
    "n_features = student_data.shape[1]-1\n",
    "\n",
    "# TODO: Calculate passing students\n",
    "n_passed = len(student_data[student_data[\"passed\"] == \"yes\"])\n",
    "\n",
    "# TODO: Calculate failing students\n",
    "n_failed = len(student_data[student_data[\"passed\"] == \"no\"])\n",
    "\n",
    "# TODO: Calculate graduation rate\n",
    "grad_rate = float(n_passed)/float(n_students)*100\n",
    "\n",
    "# Print the results\n",
    "print \"Total number of students: {}\".format(n_students)\n",
    "print \"Number of features: {}\".format(n_features)\n",
    "print \"Number of students who passed: {}\".format(n_passed)\n",
    "print \"Number of students who failed: {}\".format(n_failed)\n",
    "print \"Graduation rate of the class: {:.2f}%\".format(grad_rate)"
   ]
  },
  {
   "cell_type": "markdown",
   "metadata": {},
   "source": [
    "## Preparing the Data\n",
    "In this section, we will prepare the data for modeling, training and testing.\n",
    "\n",
    "### Identify feature and target columns\n",
    "It is often the case that the data you obtain contains non-numeric features. This can be a problem, as most machine learning algorithms expect numeric data to perform computations with.\n",
    "\n",
    "Run the code cell below to separate the student data into feature and target columns to see if any features are non-numeric."
   ]
  },
  {
   "cell_type": "code",
   "execution_count": 30,
   "metadata": {
    "collapsed": false
   },
   "outputs": [
    {
     "name": "stdout",
     "output_type": "stream",
     "text": [
      "Feature columns:\n",
      "['school', 'sex', 'age', 'address', 'famsize', 'Pstatus', 'Medu', 'Fedu', 'Mjob', 'Fjob', 'reason', 'guardian', 'traveltime', 'studytime', 'failures', 'schoolsup', 'famsup', 'paid', 'activities', 'nursery', 'higher', 'internet', 'romantic', 'famrel', 'freetime', 'goout', 'Dalc', 'Walc', 'health', 'absences']\n",
      "\n",
      "Target column: passed\n",
      "\n",
      "Feature values:\n",
      "  school sex  age address famsize Pstatus  Medu  Fedu     Mjob      Fjob  \\\n",
      "0     GP   F   18       U     GT3       A     4     4  at_home   teacher   \n",
      "1     GP   F   17       U     GT3       T     1     1  at_home     other   \n",
      "2     GP   F   15       U     LE3       T     1     1  at_home     other   \n",
      "3     GP   F   15       U     GT3       T     4     2   health  services   \n",
      "4     GP   F   16       U     GT3       T     3     3    other     other   \n",
      "\n",
      "    ...    higher internet  romantic  famrel  freetime goout Dalc Walc health  \\\n",
      "0   ...       yes       no        no       4         3     4    1    1      3   \n",
      "1   ...       yes      yes        no       5         3     3    1    1      3   \n",
      "2   ...       yes      yes        no       4         3     2    2    3      3   \n",
      "3   ...       yes      yes       yes       3         2     2    1    1      5   \n",
      "4   ...       yes       no        no       4         3     2    1    2      5   \n",
      "\n",
      "  absences  \n",
      "0        6  \n",
      "1        4  \n",
      "2       10  \n",
      "3        2  \n",
      "4        4  \n",
      "\n",
      "[5 rows x 30 columns]\n"
     ]
    }
   ],
   "source": [
    "# Extract feature columns\n",
    "feature_cols = list(student_data.columns[:-1])\n",
    "\n",
    "# Extract target column 'passed'\n",
    "target_col = student_data.columns[-1] \n",
    "\n",
    "# Show the list of columns\n",
    "print \"Feature columns:\\n{}\".format(feature_cols)\n",
    "print \"\\nTarget column: {}\".format(target_col)\n",
    "\n",
    "# Separate the data into feature data and target data (X_all and y_all, respectively)\n",
    "X_all = student_data[feature_cols]\n",
    "y_all = student_data[target_col]\n",
    "\n",
    "# Show the feature information by printing the first five rows\n",
    "print \"\\nFeature values:\"\n",
    "print X_all.head()"
   ]
  },
  {
   "cell_type": "markdown",
   "metadata": {},
   "source": [
    "### Preprocess Feature Columns\n",
    "\n",
    "As you can see, there are several non-numeric columns that need to be converted! Many of them are simply `yes`/`no`, e.g. `internet`. These can be reasonably converted into `1`/`0` (binary) values.\n",
    "\n",
    "Other columns, like `Mjob` and `Fjob`, have more than two values, and are known as _categorical variables_. The recommended way to handle such a column is to create as many columns as possible values (e.g. `Fjob_teacher`, `Fjob_other`, `Fjob_services`, etc.), and assign a `1` to one of them and `0` to all others.\n",
    "\n",
    "These generated columns are sometimes called _dummy variables_, and we will use the [`pandas.get_dummies()`](http://pandas.pydata.org/pandas-docs/stable/generated/pandas.get_dummies.html?highlight=get_dummies#pandas.get_dummies) function to perform this transformation. Run the code cell below to perform the preprocessing routine discussed in this section."
   ]
  },
  {
   "cell_type": "code",
   "execution_count": 31,
   "metadata": {
    "collapsed": false
   },
   "outputs": [
    {
     "name": "stdout",
     "output_type": "stream",
     "text": [
      "Processed feature columns (56 total features):\n",
      "['school_GP', 'school_MS', 'sex_F', 'sex_M', 'age', 'address_R', 'address_U', 'famsize_GT3', 'famsize_LE3', 'Pstatus_A', 'Pstatus_T', 'Medu', 'Fedu', 'Mjob_at_home', 'Mjob_health', 'Mjob_other', 'Mjob_services', 'Mjob_teacher', 'Fjob_at_home', 'Fjob_health', 'Fjob_other', 'Fjob_services', 'Fjob_teacher', 'reason_course', 'reason_home', 'reason_other', 'reason_reputation', 'guardian_father', 'guardian_mother', 'guardian_other', 'traveltime', 'studytime', 'failures', 'schoolsup_0', 'schoolsup_1', 'famsup_0', 'famsup_1', 'paid_0', 'paid_1', 'activities_0', 'activities_1', 'nursery_0', 'nursery_1', 'higher_0', 'higher_1', 'internet_0', 'internet_1', 'romantic_0', 'romantic_1', 'famrel', 'freetime', 'goout', 'Dalc', 'Walc', 'health', 'absences']\n"
     ]
    }
   ],
   "source": [
    "def preprocess_features(X):\n",
    "    ''' Preprocesses the student data and converts non-numeric binary variables into\n",
    "        binary (0/1) variables. Converts categorical variables into dummy variables. '''\n",
    "    \n",
    "    # Initialize new output DataFrame\n",
    "    output = pd.DataFrame(index = X.index)\n",
    "\n",
    "    # Investigate each feature column for the data\n",
    "    for col, col_data in X.iteritems():\n",
    "        \n",
    "        # If data type is non-numeric, replace all yes/no values with 1/0\n",
    "        # If data type is categorical, convert to dummy variables; example: 'school' => 'school_GP' and 'school_MS'\n",
    "        if col_data.dtype == object:\n",
    "            col_data = col_data.replace(['yes', 'no'], [1, 0])\n",
    "            col_data = pd.get_dummies(col_data, prefix = col)\n",
    "              \n",
    "        # Collect the revised columns\n",
    "        output = output.join(col_data)\n",
    "    \n",
    "    return output\n",
    "\n",
    "X_all = preprocess_features(X_all)\n",
    "print \"Processed feature columns ({} total features):\\n{}\".format(len(X_all.columns), list(X_all.columns))"
   ]
  },
  {
   "cell_type": "markdown",
   "metadata": {},
   "source": [
    "### Implementation: Training and Testing Data Split\n",
    "So far, we have converted all _categorical_ features into numeric values. For the next step, we split the data (both features and corresponding labels) into training and test sets. In the following code cell below, you will need to implement the following:\n",
    "- Randomly shuffle and split the data (`X_all`, `y_all`) into training and testing subsets.\n",
    "  - Use 300 training points (approximately 75%) and 95 testing points (approximately 25%).\n",
    "  - Set a `random_state` for the function(s) you use, if provided.\n",
    "  - Store the results in `X_train`, `X_test`, `y_train`, and `y_test`."
   ]
  },
  {
   "cell_type": "code",
   "execution_count": 32,
   "metadata": {
    "collapsed": false
   },
   "outputs": [
    {
     "name": "stdout",
     "output_type": "stream",
     "text": [
      "(395, 56)\n",
      "Training set has 300 samples.\n",
      "Testing set has 95 samples.\n",
      "Graduation rate of the training set: 68.67%\n",
      "Graduation rate of the testing set: 62.11%\n"
     ]
    }
   ],
   "source": [
    "# TODO: Set the number of training points\n",
    "num_train = 300\n",
    "\n",
    "print X_all.shape\n",
    "\n",
    "# Set the number of testing points\n",
    "num_test = X_all.shape[0] - num_train\n",
    "\n",
    "# TODO: Shuffle and split the dataset into the number of training and testing points above\n",
    "X_train, X_test, y_train, y_test = train_test_split(X_all, y_all, test_size=num_test, random_state=0)\n",
    "\n",
    "# Show the results of the split\n",
    "print \"Training set has {} samples.\".format(X_train.shape[0])\n",
    "print \"Testing set has {} samples.\".format(X_test.shape[0])\n",
    "print \"Graduation rate of the training set: {:.2f}%\".format(100 * (y_train == \"yes\").mean())\n",
    "print \"Graduation rate of the testing set: {:.2f}%\".format(100 * (y_test == \"yes\").mean())"
   ]
  },
  {
   "cell_type": "markdown",
   "metadata": {},
   "source": [
    "## Training and Evaluating Models\n",
    "In this section, you will choose at least 3 supervised learning models that are appropriate for this problem and available in `scikit-learn`. You will first discuss the reasoning behind choosing these three models by considering what you know about the data and each model's strengths and weaknesses. You will then fit the model to varying sizes of training data (100 data points, 200 data points, and 300 data points) and measure the F<sub>1</sub> score. You will need to produce three tables (one for each model) that shows the training set size, training time, prediction time, F<sub>1</sub> score on the training set, and F<sub>1</sub> score on the testing set.\n",
    "\n",
    "**The following supervised learning models are currently available in** [`scikit-learn`](http://scikit-learn.org/stable/supervised_learning.html) **that you may choose from:**\n",
    "- Gaussian Naive Bayes (GaussianNB)\n",
    "- Decision Trees\n",
    "- Ensemble Methods (Bagging, AdaBoost, Random Forest, Gradient Boosting)\n",
    "- K-Nearest Neighbors (KNeighbors)\n",
    "- Stochastic Gradient Descent (SGDC)\n",
    "- Support Vector Machines (SVM)\n",
    "- Logistic Regression"
   ]
  },
  {
   "cell_type": "markdown",
   "metadata": {},
   "source": [
    "### Question 2 - Model Application\n",
    "*List at least three supervised learning models that are appropriate for this problem. For each model chosen*\n",
    "- Describe one real-world application in industry where the model can be applied. *(You may need to do a small bit of research for this — give references!)* \n",
    "- What are the strengths of the model; when does it perform well? \n",
    "- What are the weaknesses of the model; when does it perform poorly?\n",
    "- What makes this model a good candidate for the problem, given what you know about the data?"
   ]
  },
  {
   "cell_type": "markdown",
   "metadata": {},
   "source": [
    "**Answer: **\n",
    "\n",
    "I'm listing other commonly used Supervised Learning algorithms in the cell below, along with their strengths and weaknesses for future reference but the three scikit-learn models I would choose for this project are:\n",
    "\n",
    "Gaussian Naive Bayes (GaussianNB):\n",
    "- Naive Bayes Classifiers are commonly used in text classification, word processing, business analysis and marketing. A well known use would be a spam filter for email.\n",
    "- Even faster than linear models, good for very large datasets and high-dimensional data.\n",
    "- Often less accurate than linear models.\n",
    "- Good for this project because Naive Bayes Classifiers do well with data in which the inputs are independent from one another. \n",
    "\n",
    "Decision Trees:\n",
    "- Decision Trees have been used in computer vision, robotics, control systems, video games and medical analysis. Binary search trees (B-trees), a special type of binary tree, are commonly used to store data in databases.\n",
    "- Decision Trees are very fast, don’t need scaling of the data; can be visualized and easily explained.\n",
    "- Downsides are that you don't get random access and performance times are on average and rely on the tree being balanced.\n",
    "- DecisionTreeClassifier could be a good option here because the dataset is small and by using Stratified Shuffle Split (SSS) we can correct the imbalance of the training data (265 passed; 130 failed).\n",
    "\n",
    "K-Nearest Neighbors (KNeighbors):\n",
    "- kNN has been used for OCR (optical character recognition) by extracting the features of characters/numbers and matching them up with their nearest known (labeled) neighbor. A common use is for recommending products to consumers based on preferences of customers similar to them.\n",
    "- For small datasets, kNN is good as a baseline and easy to explain.\n",
    "- Weaknesses: Need to give a good similarity measure which may not be known apriori; query/prediction cost is high depending on the value of k chosen; curse of dimensionality.\n",
    "- Good for this project to set up a quick and simple algorithm since the training set is quite small, so we can try out kNN for fast prediction times.\n",
    "\n",
    "Logistic Regression:\n",
    "- The Injury Severity Score (ISS) would be a good example of a real world application of logistic regression (which is what was used when it was originally developed. It correlates with mortality, morbidity and hospitalization time after trauma.\n",
    "- Go-to as a first algorithm to try, good for very large datasets; good for very high-dimensional data.\n",
    "- Linear model and cannot capture any complex relationships between the data and the target variable. It is a high bias model and given sufficient data, other more complex models with less bias may outperform it. Logistic regression cannot predict continuous outcomes.\n",
    "- Logistic Regression is easy to apply and a solid baseline to compare other more complex methods. Thus, it should be the first thing to start with when looking for an optimal classifier.\n",
    "\n",
    "\n",
    "REFERENCES:\n",
    "\n",
    "- An Introduction to Machine Learning with Python by Andreas C. Müller and Sarah Guido (O’Reilly). Copyright 2017 Sarah Guido and Andreas Müller, 978-1-449-36941-5\n",
    "\n",
    "- Toughtful Machine Learning by Matthew Kirk (O’Reilly). Copyright 2015 Matthew Kirk, 978-1-449-37406-8"
   ]
  },
  {
   "cell_type": "markdown",
   "metadata": {},
   "source": [
    "Additional Models:\n",
    "\n",
    "-Random Forests:\n",
    "Nearly always perform better than a single decision tree, very robust and powerful. Don’t need scaling of data. Not good for very high-dimensional, sparse data.\n",
    "\n",
    "-Gradient Boosted Decision Trees:\n",
    "Often slightly more accurate than random forests. Slower to train but faster to predict than random forests, and smaller in memory. Need more parameter tuning than random forests.\n",
    "\n",
    "-Support Vector Machines:\n",
    "Powerful for medium-sized datasets of features with similar meaning. Require scaling of data; sensitive to parameters.\n",
    "\n",
    "Additionally, SVMs come with two theoretical benefits: 1) A guaranteed optimal solution (you can get this with simpler techniques like logistic regression). 2) The ability to use non-linear kernels, which can offer much more power than logistic regression (on par with neural networks).\n",
    "\n",
    "In practice though, non-linear kernels slow training down to the point of being impractical in many cases. Linear kernels may be fast enough, but remove the second benefit (mentioned above), so most people would prefer to use established linear techniques like logistic regression.\n",
    "\n",
    "-Neural Networks:\n",
    "Can build very complex models, particularly for large datasets. Sensitive to scaling of the data and to the choice of parameters. Large models need a long time to train."
   ]
  },
  {
   "cell_type": "markdown",
   "metadata": {},
   "source": [
    "### Setup\n",
    "Run the code cell below to initialize three helper functions which you can use for training and testing the three supervised learning models you've chosen above. The functions are as follows:\n",
    "- `train_classifier` - takes as input a classifier and training data and fits the classifier to the data.\n",
    "- `predict_labels` - takes as input a fit classifier, features, and a target labeling and makes predictions using the F<sub>1</sub> score.\n",
    "- `train_predict` - takes as input a classifier, and the training and testing data, and performs `train_clasifier` and `predict_labels`.\n",
    " - This function will report the F<sub>1</sub> score for both the training and testing data separately."
   ]
  },
  {
   "cell_type": "code",
   "execution_count": 33,
   "metadata": {
    "collapsed": false
   },
   "outputs": [
    {
     "name": "stdout",
     "output_type": "stream",
     "text": [
      "Done\n"
     ]
    }
   ],
   "source": [
    "def train_classifier(clf, X_train, y_train):\n",
    "    ''' Fits a classifier to the training data. '''\n",
    "    \n",
    "    # Start the clock, train the classifier, then stop the clock\n",
    "    start = time()\n",
    "    clf.fit(X_train, y_train)\n",
    "    end = time()\n",
    "    \n",
    "    # Print the results\n",
    "    print \"Trained model in {:.4f} seconds\".format(end - start)\n",
    "\n",
    "    \n",
    "def predict_labels(clf, features, target):\n",
    "    ''' Makes predictions using a fit classifier based on F1 score. '''\n",
    "    \n",
    "    # Start the clock, make predictions, then stop the clock\n",
    "    start = time()\n",
    "    y_pred = clf.predict(features)\n",
    "    end = time()\n",
    "    \n",
    "    # Print and return results\n",
    "    print \"Made predictions in {:.4f} seconds.\".format(end - start)\n",
    "    return f1_score(target.values, y_pred, pos_label='yes')\n",
    "\n",
    "\n",
    "def train_predict(clf, X_train, y_train, X_test, y_test):\n",
    "    ''' Train and predict using a classifer based on F1 score. '''\n",
    "    \n",
    "    # Indicate the classifier and the training set size\n",
    "    print \"Training a {} using a training set size of {}. . .\".format(clf.__class__.__name__, len(X_train))\n",
    "    \n",
    "    # Train the classifier\n",
    "    train_classifier(clf, X_train, y_train)\n",
    "    \n",
    "    # Print the results of prediction for both training and testing\n",
    "    print \"F1 score for training set: {:.4f}.\".format(predict_labels(clf, X_train, y_train))\n",
    "    print \"F1 score for test set: {:.4f}.\".format(predict_labels(clf, X_test, y_test))\n",
    "\n",
    "def stratify_shuffle(X, y, num_train):\n",
    "    sss = StratifiedShuffleSplit(y, 1, train_size=num_train, random_state=0)\n",
    "\n",
    "    # just one iteration\n",
    "    for train_index, test_index in sss:\n",
    "        X_train = X.iloc[train_index]\n",
    "        X_test = X.iloc[test_index]\n",
    "        y_train, y_test = y.iloc[train_index], y.iloc[test_index] \n",
    "        \n",
    "    return X_train, X_test, y_train, y_test\n",
    "\n",
    "print(\"Done\")"
   ]
  },
  {
   "cell_type": "markdown",
   "metadata": {},
   "source": [
    "### Implementation: Model Performance Metrics\n",
    "With the predefined functions above, you will now import the three supervised learning models of your choice and run the `train_predict` function for each one. Remember that you will need to train and predict on each classifier for three different training set sizes: 100, 200, and 300. Hence, you should expect to have 9 different outputs below — 3 for each model using the varying training set sizes. In the following code cell, you will need to implement the following:\n",
    "- Import the three supervised learning models you've discussed in the previous section.\n",
    "- Initialize the three models and store them in `clf_A`, `clf_B`, and `clf_C`.\n",
    " - Use a `random_state` for each model you use, if provided.\n",
    " - **Note:** Use the default settings for each model — you will tune one specific model in a later section.\n",
    "- Create the different training set sizes to be used to train each model.\n",
    " - *Do not reshuffle and resplit the data! The new training points should be drawn from `X_train` and `y_train`.*\n",
    "- Fit each model with each training set size and make predictions on the test set (9 in total).  \n",
    "**Note:** Three tables are provided after the following code cell which can be used to store your results."
   ]
  },
  {
   "cell_type": "code",
   "execution_count": 34,
   "metadata": {
    "collapsed": false
   },
   "outputs": [
    {
     "name": "stdout",
     "output_type": "stream",
     "text": [
      "Training a GaussianNB using a training set size of 100. . .\n",
      "Trained model in 0.0034 seconds\n",
      "Made predictions in 0.0008 seconds.\n",
      "F1 score for training set: 0.8682.\n",
      "Made predictions in 0.0012 seconds.\n",
      "F1 score for test set: 0.7576.\n",
      "Training a GaussianNB using a training set size of 200. . .\n",
      "Trained model in 0.0028 seconds\n",
      "Made predictions in 0.0014 seconds.\n",
      "F1 score for training set: 0.8000.\n",
      "Made predictions in 0.0011 seconds.\n",
      "F1 score for test set: 0.7176.\n",
      "Training a GaussianNB using a training set size of 300. . .\n",
      "Trained model in 0.0026 seconds\n",
      "Made predictions in 0.0011 seconds.\n",
      "F1 score for training set: 0.8058.\n",
      "Made predictions in 0.0005 seconds.\n",
      "F1 score for test set: 0.7391.\n",
      "Training a DecisionTreeClassifier using a training set size of 100. . .\n",
      "Trained model in 0.0023 seconds\n",
      "Made predictions in 0.0010 seconds.\n",
      "F1 score for training set: 1.0000.\n",
      "Made predictions in 0.0006 seconds.\n",
      "F1 score for test set: 0.7200.\n",
      "Training a DecisionTreeClassifier using a training set size of 200. . .\n",
      "Trained model in 0.0021 seconds\n",
      "Made predictions in 0.0007 seconds.\n",
      "F1 score for training set: 1.0000.\n",
      "Made predictions in 0.0004 seconds.\n",
      "F1 score for test set: 0.7231.\n",
      "Training a DecisionTreeClassifier using a training set size of 300. . .\n",
      "Trained model in 0.0069 seconds\n",
      "Made predictions in 0.0011 seconds.\n",
      "F1 score for training set: 1.0000.\n",
      "Made predictions in 0.0006 seconds.\n",
      "F1 score for test set: 0.7333.\n",
      "Training a KNeighborsClassifier using a training set size of 100. . .\n",
      "Trained model in 0.0027 seconds\n",
      "Made predictions in 0.0064 seconds.\n",
      "F1 score for training set: 0.8000.\n",
      "Made predictions in 0.0018 seconds.\n",
      "F1 score for test set: 0.7176.\n",
      "Training a KNeighborsClassifier using a training set size of 200. . .\n",
      "Trained model in 0.0015 seconds\n",
      "Made predictions in 0.0064 seconds.\n",
      "F1 score for training set: 0.8522.\n",
      "Made predictions in 0.0030 seconds.\n",
      "F1 score for test set: 0.7015.\n",
      "Training a KNeighborsClassifier using a training set size of 300. . .\n",
      "Trained model in 0.0017 seconds\n",
      "Made predictions in 0.0104 seconds.\n",
      "F1 score for training set: 0.8767.\n",
      "Made predictions in 0.0031 seconds.\n",
      "F1 score for test set: 0.7518.\n",
      "Training a SVC using a training set size of 100. . .\n",
      "Trained model in 0.0019 seconds\n",
      "Made predictions in 0.0010 seconds.\n",
      "F1 score for training set: 0.8533.\n",
      "Made predictions in 0.0009 seconds.\n",
      "F1 score for test set: 0.7785.\n",
      "Training a SVC using a training set size of 200. . .\n",
      "Trained model in 0.0041 seconds\n",
      "Made predictions in 0.0028 seconds.\n",
      "F1 score for training set: 0.8636.\n",
      "Made predictions in 0.0016 seconds.\n",
      "F1 score for test set: 0.7755.\n",
      "Training a SVC using a training set size of 300. . .\n",
      "Trained model in 0.0086 seconds\n",
      "Made predictions in 0.0062 seconds.\n",
      "F1 score for training set: 0.8674.\n",
      "Made predictions in 0.0018 seconds.\n",
      "F1 score for test set: 0.7586.\n",
      "Training a LogisticRegression using a training set size of 100. . .\n",
      "Trained model in 0.0019 seconds\n",
      "Made predictions in 0.0008 seconds.\n",
      "F1 score for training set: 0.8696.\n",
      "Made predictions in 0.0005 seconds.\n",
      "F1 score for test set: 0.7612.\n",
      "Training a LogisticRegression using a training set size of 200. . .\n",
      "Trained model in 0.0023 seconds\n",
      "Made predictions in 0.0004 seconds.\n",
      "F1 score for training set: 0.8410.\n",
      "Made predictions in 0.0004 seconds.\n",
      "F1 score for test set: 0.7941.\n",
      "Training a LogisticRegression using a training set size of 300. . .\n",
      "Trained model in 0.0027 seconds\n",
      "Made predictions in 0.0004 seconds.\n",
      "F1 score for training set: 0.8337.\n",
      "Made predictions in 0.0004 seconds.\n",
      "F1 score for test set: 0.7761.\n"
     ]
    }
   ],
   "source": [
    "# TODO: Import the three supervised learning models from sklearn\n",
    "from sklearn.naive_bayes import GaussianNB\n",
    "from sklearn.tree import DecisionTreeClassifier\n",
    "from sklearn.ensemble import BaggingClassifier\n",
    "from sklearn.ensemble import AdaBoostClassifier\n",
    "from sklearn.ensemble import RandomForestClassifier\n",
    "from sklearn.ensemble import GradientBoostingClassifier\n",
    "from sklearn.neighbors import KNeighborsClassifier\n",
    "from sklearn import svm\n",
    "from sklearn.linear_model import SGDClassifier\n",
    "from sklearn.linear_model import LogisticRegression\n",
    "\n",
    "# TODO: Initialize the three models\n",
    "clf_A = GaussianNB()\n",
    "clf_B = DecisionTreeClassifier(random_state = 0)\n",
    "clf_C = KNeighborsClassifier(n_neighbors=5)\n",
    "clf_D = svm.SVC(random_state=0)\n",
    "clf_E = LogisticRegression(random_state=0)\n",
    "classifiers = [clf_A, clf_B, clf_C, clf_D, clf_E]\n",
    "\n",
    "# TODO: Set up the training set sizes\n",
    "# TODO: Execute the 'train_predict' function for each classifier and each training set size\n",
    "# train_predict(clf, X_train, y_train, X_test, y_test)\n",
    "\n",
    "X_train_100 = X_train[:100]\n",
    "y_train_100 = y_train[:100]\n",
    "\n",
    "X_train_200 = X_train[:200]\n",
    "y_train_200 = y_train[:200]\n",
    "\n",
    "X_train_300 = X_train # entire training set\n",
    "y_train_300 = y_train\n",
    "\n",
    "#X_train_100, X_test_100, y_train_100, y_test_100 = stratify_shuffle(X_train, y_train, 100)\n",
    "#X_train_200, X_test_200, y_train_200, y_test_200 = stratify_shuffle(X_train, y_train, 200)\n",
    "#X_train_300, X_test_300, y_train_300, y_test_300 = X_train, X_test, y_train, y_test\n",
    "\n",
    "training_sets = [(X_train_100, y_train_100), (X_train_200, y_train_200), (X_train_300, y_train_300)]\n",
    "\n",
    "for clf in classifiers:\n",
    "    for X, y in training_sets:\n",
    "        train_predict(clf, X, y, X_test, y_test)"
   ]
  },
  {
   "cell_type": "markdown",
   "metadata": {},
   "source": [
    "### Tabular Results\n",
    "Edit the cell below to see how a table can be designed in [Markdown](https://github.com/adam-p/markdown-here/wiki/Markdown-Cheatsheet#tables). You can record your results from above in the tables provided."
   ]
  },
  {
   "cell_type": "markdown",
   "metadata": {},
   "source": [
    "** Classifer 1 - GaussianNB**  \n",
    "\n",
    "| Training Set Size | Training Time | Prediction Time (test) | F1 Score (train) | F1 Score (test) |\n",
    "| :---------------: | :---------------------: | :--------------------: | :--------------: | :-------------: |\n",
    "| 100               | 0.0034                       | 0.0012                       | 0.8682                 | 0.7576                |\n",
    "| 200               | 0.0028          | 0.0011                       | 0.8000                 | 0.7176                |\n",
    "| 300               | 0.0026                        | 0.0005                       | 0.8058                 | 0.7391      \n",
    "\n",
    "** Classifer 2 - DecisionTreeClassifier**  \n",
    "\n",
    "| Training Set Size | Training Time | Prediction Time (test) | F1 Score (train) | F1 Score (test) |\n",
    "| :---------------: | :---------------------: | :--------------------: | :--------------: | :-------------: |\n",
    "| 100               | 0.0023                        | 0.0006                       | 1.000                 | 0.7200                |\n",
    "| 200               | 0.0021             | 0.0004                       | 1.000                 | 0.7231                |\n",
    "| 300               | 0.0069                        | 0.0006                       | 1.000                 | 0.7333     |\n",
    "\n",
    "** Classifer 3 - KNeighborsClassifier**  \n",
    "\n",
    "| Training Set Size | Training Time | Prediction Time (test) | F1 Score (train) | F1 Score (test) |\n",
    "| :---------------: | :---------------------: | :--------------------: | :--------------: | :-------------: |\n",
    "| 100               | 0.0027                        | 0.0018                       | 0.8000                 | 0.7176                |\n",
    "| 200               | 0.0015                        | 0.0030                       | 0.8522                 | 0.7015                |\n",
    "| 300               | 0.0017                        | 0.0031                       | 0.8767                 | 0.7518         |\n",
    "\n",
    "** Classifer 4 - SVC**  \n",
    "\n",
    "| Training Set Size | Training Time | Prediction Time (test) | F1 Score (train) | F1 Score (test) |\n",
    "| :---------------: | :---------------------: | :--------------------: | :--------------: | :-------------: |\n",
    "| 100               | 0.0019                        | 0.0009                       | 0.8533                 | 0.7785                |\n",
    "| 200               | 0.0041          | 0.0016                       | 0.8636                 | 0.7755                |\n",
    "| 300               | 0.0086                        | 0.0018                       | 0.8674                 | 0.7586      |\n",
    "\n",
    "\n",
    "** Classifer 5 - LogisticRegression**  \n",
    "\n",
    "| Training Set Size | Training Time | Prediction Time (test) | F1 Score (train) | F1 Score (test) |\n",
    "| :---------------: | :---------------------: | :--------------------: | :--------------: | :-------------: |\n",
    "| 100               | 0.0019                        | 0.0005                       | 0.8696                 | 0.7612                |\n",
    "| 200               | 0.0023          | 0.0004                       | 0.8410                 | 0.7941                |\n",
    "| 300               | 0.0027                        | 0.0004                       | 0.8337                 | 0.7761      |\n"
   ]
  },
  {
   "cell_type": "markdown",
   "metadata": {},
   "source": [
    "## Choosing the Best Model\n",
    "In this final section, you will choose from the three supervised learning models the *best* model to use on the student data. You will then perform a grid search optimization for the model over the entire training set (`X_train` and `y_train`) by tuning at least one parameter to improve upon the untuned model's F<sub>1</sub> score. "
   ]
  },
  {
   "cell_type": "markdown",
   "metadata": {},
   "source": [
    "### Question 3 - Choosing the Best Model\n",
    "*Based on the experiments you performed earlier, in one to two paragraphs, explain to the board of supervisors what single model you chose as the best model. Which model is generally the most appropriate based on the available data, limited resources, cost, and performance?*"
   ]
  },
  {
   "cell_type": "markdown",
   "metadata": {},
   "source": [
    "**Answer: **\n",
    "\n",
    "I would choose Logistic Regression (LR) for the classifier. It has the highest test F1 score when using a training set size of 200, as well as when using the full training set. SVC has somewhat competitive test F1 scores but it takes significantly longer to train and make predictions. LR is faster and it's a less complex model, suitable for the data in hand (majority of the data is linearly separable). The table above confirms that it is the fastest of all the models in terms of prediction time and its superior accuracy over kNN outweighs its longer training time. Also, LR's spread between F1 scores on training and test sets are the lowest. This is an indicator that LR is not overfitting to the small training set as much as some of the other models."
   ]
  },
  {
   "cell_type": "markdown",
   "metadata": {},
   "source": [
    "### Question 4 - Model in Layman's Terms\n",
    "*In one to two paragraphs, explain to the board of directors in layman's terms how the final model chosen is supposed to work. Be sure that you are describing the major qualities of the model, such as how the model is trained and how the model makes a prediction. Avoid using advanced mathematical or technical jargon, such as describing equations or discussing the algorithm implementation.*"
   ]
  },
  {
   "cell_type": "markdown",
   "metadata": {},
   "source": [
    "**Answer: **\n",
    "\n",
    "The Logistic Regression model is able to predict how likely a student is to graduate. It does so by analyzing the 395-student data (that have already been through the program). By looking at the attributes of these students, our model can identify cues that have been idicative of failing to graduate in the past. We can look for these cues in future students to get our intervention system.\n",
    "\n",
    "To get a feeling for how the model works, consider the concept of an extraordinarily high number of absences correlating closely with a high failure rate. This is quite intuitive and a rather obvious relationship. What our model does is expand on this idea and look for more subtle, less obvious relationships and patterns, using many more variables than just absences. Because we have detailed records on previous students and we know whether each of those students passed or failed, we can use this information to train our model on what a passing student and what a failing student \"looks like\" so to speak. The model will identify predictive factors and assign weights (higher for those with more influence; less for those with less influence on the outcome) to each and evaluate their influence on the outcome of each of the former students. That's the formal training process. Once that's done we can feed it records of existing students and our model can develop a probability of failure for each current student. If the probability of failure is above a certain threshold the model will identify that student as one in need of additional guidance. Put simply, we will train our model to recognize and identify students who appear to be similar to past students that have failed to graduate.\n",
    "\n",
    "Over time, and with more student records entered, this model will continue to \"learn\" and get better and better at predicting which students are at risk of not graduating."
   ]
  },
  {
   "cell_type": "markdown",
   "metadata": {},
   "source": [
    "### Implementation: Model Tuning\n",
    "Fine tune the chosen model. Use grid search (`GridSearchCV`) with at least one important parameter tuned with at least 3 different values. You will need to use the entire training set for this. In the code cell below, you will need to implement the following:\n",
    "- Import [`sklearn.grid_search.GridSearchCV`](http://scikit-learn.org/0.17/modules/generated/sklearn.grid_search.GridSearchCV.html) and [`sklearn.metrics.make_scorer`](http://scikit-learn.org/stable/modules/generated/sklearn.metrics.make_scorer.html).\n",
    "- Create a dictionary of parameters you wish to tune for the chosen model.\n",
    " - Example: `parameters = {'parameter' : [list of values]}`.\n",
    "- Initialize the classifier you've chosen and store it in `clf`.\n",
    "- Create the F<sub>1</sub> scoring function using `make_scorer` and store it in `f1_scorer`.\n",
    " - Set the `pos_label` parameter to the correct value!\n",
    "- Perform grid search on the classifier `clf` using `f1_scorer` as the scoring method, and store it in `grid_obj`.\n",
    "- Fit the grid search object to the training data (`X_train`, `y_train`), and store it in `grid_obj`."
   ]
  },
  {
   "cell_type": "code",
   "execution_count": 37,
   "metadata": {
    "collapsed": false
   },
   "outputs": [
    {
     "name": "stdout",
     "output_type": "stream",
     "text": [
      "Made predictions in 0.0007 seconds.\n",
      "Tuned model has a training F1 score of 0.8363.\n",
      "Made predictions in 0.0004 seconds.\n",
      "Tuned model has a testing F1 score of 0.7737.\n"
     ]
    }
   ],
   "source": [
    "# TODO: Import 'GridSearchCV' and 'make_scorer'\n",
    "from sklearn.grid_search import GridSearchCV\n",
    "from sklearn.metrics import make_scorer\n",
    "\n",
    "# TODO: Create the parameters list you wish to tune\n",
    "parameters = [{'C': np.logspace(0.00001, 5, num=100), 'penalty': ['l1', 'l2'], 'class_weight': ['balanced', None]}]\n",
    "\n",
    "# TODO: Initialize the classifier\n",
    "clf = LogisticRegression()\n",
    "\n",
    "# TODO: Make an f1 scoring function using 'make_scorer' \n",
    "f1_scorer = make_scorer(f1_score, pos_label='yes')\n",
    "\n",
    "# TODO: Perform grid search on the classifier using the f1_scorer as the scoring method\n",
    "grid_obj = GridSearchCV(clf, parameters, scoring=f1_scorer, cv=5, verbose=0)\n",
    "\n",
    "# TODO: Fit the grid search object to the training data and find the optimal parameters\n",
    "grid_obj.fit(X_train, y_train)\n",
    "\n",
    "# Get the estimator\n",
    "clf = grid_obj.best_estimator_\n",
    "\n",
    "# Report the final F1 score for training and testing after parameter tuning\n",
    "print \"Tuned model has a training F1 score of {:.4f}.\".format(predict_labels(clf, X_train, y_train))\n",
    "print \"Tuned model has a testing F1 score of {:.4f}.\".format(predict_labels(clf, X_test, y_test))"
   ]
  },
  {
   "cell_type": "markdown",
   "metadata": {},
   "source": [
    "### Question 5 - Final F<sub>1</sub> Score\n",
    "*What is the final model's F<sub>1</sub> score for training and testing? How does that score compare to the untuned model?*"
   ]
  },
  {
   "cell_type": "markdown",
   "metadata": {},
   "source": [
    "**Answer: **\n",
    "\n",
    "The tuned model has a training F1 score of 0.8363 and a testing F1 score of 0.7737. This is nearly identical to the untuned F1 scores of 0.8337 and 0.7761 for training and testing, respectively. I suspect with a larger dataset we'd see more of an impact from fine tuning out parameters."
   ]
  },
  {
   "cell_type": "markdown",
   "metadata": {},
   "source": [
    "> **Note**: Once you have completed all of the code implementations and successfully answered each question above, you may finalize your work by exporting the iPython Notebook as an HTML document. You can do this by using the menu above and navigating to  \n",
    "**File -> Download as -> HTML (.html)**. Include the finished document along with this notebook as your submission."
   ]
  }
 ],
 "metadata": {
  "kernelspec": {
   "display_name": "Python [default]",
   "language": "python",
   "name": "python2"
  },
  "language_info": {
   "codemirror_mode": {
    "name": "ipython",
    "version": 2
   },
   "file_extension": ".py",
   "mimetype": "text/x-python",
   "name": "python",
   "nbconvert_exporter": "python",
   "pygments_lexer": "ipython2",
   "version": "2.7.13"
  }
 },
 "nbformat": 4,
 "nbformat_minor": 0
}
